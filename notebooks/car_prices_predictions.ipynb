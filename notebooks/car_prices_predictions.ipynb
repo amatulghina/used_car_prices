{
 "cells": [
  {
   "cell_type": "markdown",
   "id": "293f220e-5939-45b3-9b4e-2936c99e3425",
   "metadata": {},
   "source": [
    "#### Import libraries & Load datasets"
   ]
  },
  {
   "cell_type": "code",
   "execution_count": 75,
   "id": "83738642-f758-41ac-b745-db2d906507d0",
   "metadata": {},
   "outputs": [],
   "source": [
    "import pandas as pd\n",
    "import functions as func\n",
    "import yaml\n",
    "import matplotlib.pyplot as plt\n",
    "import seaborn as sns\n",
    "from sklearn.linear_model import LinearRegression\n",
    "from sklearn.metrics import r2_score, mean_absolute_error, mean_squared_error\n",
    "\n",
    "%matplotlib inline\n",
    "\n",
    "db_locations = func.import_yaml()\n",
    "\n",
    "#load df\n",
    "df = pd.read_csv(db_locations['data_raw']['train'])\n",
    "df_test = pd.read_csv(db_locations['data_raw']['test'])"
   ]
  },
  {
   "cell_type": "markdown",
   "id": "552c4239-640b-4a38-9300-92e2b4549988",
   "metadata": {},
   "source": [
    "#### Understanding the Data"
   ]
  },
  {
   "cell_type": "markdown",
   "id": "cf4011b7-7562-4f38-9d6c-9329cffe19cd",
   "metadata": {},
   "source": [
    "Predictors:\n",
    "- brand\n",
    "- model\n",
    "- model_year\n",
    "- milage\n",
    "- fuel_type (paola)\n",
    "- engine (flory)\n",
    "- transmission (paola)\n",
    "- ext_col (aisyah)\n",
    "- int_col (aisyah)\n",
    "- accident (tiago)\n",
    "- clean_title (tiago)\n",
    "\n",
    "Target:\n",
    "- price"
   ]
  },
  {
   "cell_type": "code",
   "execution_count": 71,
   "id": "24af1ba9-268b-4185-8f79-bbaae9f8d99b",
   "metadata": {},
   "outputs": [
    {
     "data": {
      "text/html": [
       "<div>\n",
       "<style scoped>\n",
       "    .dataframe tbody tr th:only-of-type {\n",
       "        vertical-align: middle;\n",
       "    }\n",
       "\n",
       "    .dataframe tbody tr th {\n",
       "        vertical-align: top;\n",
       "    }\n",
       "\n",
       "    .dataframe thead th {\n",
       "        text-align: right;\n",
       "    }\n",
       "</style>\n",
       "<table border=\"1\" class=\"dataframe\">\n",
       "  <thead>\n",
       "    <tr style=\"text-align: right;\">\n",
       "      <th></th>\n",
       "      <th>id</th>\n",
       "      <th>brand</th>\n",
       "      <th>model</th>\n",
       "      <th>model_year</th>\n",
       "      <th>milage</th>\n",
       "      <th>fuel_type</th>\n",
       "      <th>engine</th>\n",
       "      <th>transmission</th>\n",
       "      <th>ext_col</th>\n",
       "      <th>int_col</th>\n",
       "      <th>accident</th>\n",
       "      <th>clean_title</th>\n",
       "      <th>price</th>\n",
       "    </tr>\n",
       "  </thead>\n",
       "  <tbody>\n",
       "    <tr>\n",
       "      <th>0</th>\n",
       "      <td>0</td>\n",
       "      <td>MINI</td>\n",
       "      <td>Cooper S Base</td>\n",
       "      <td>2007</td>\n",
       "      <td>213000</td>\n",
       "      <td>Gasoline</td>\n",
       "      <td>172.0HP 1.6L 4 Cylinder Engine Gasoline Fuel</td>\n",
       "      <td>A/T</td>\n",
       "      <td>Yellow</td>\n",
       "      <td>Gray</td>\n",
       "      <td>None reported</td>\n",
       "      <td>Yes</td>\n",
       "      <td>4200</td>\n",
       "    </tr>\n",
       "    <tr>\n",
       "      <th>1</th>\n",
       "      <td>1</td>\n",
       "      <td>Lincoln</td>\n",
       "      <td>LS V8</td>\n",
       "      <td>2002</td>\n",
       "      <td>143250</td>\n",
       "      <td>Gasoline</td>\n",
       "      <td>252.0HP 3.9L 8 Cylinder Engine Gasoline Fuel</td>\n",
       "      <td>A/T</td>\n",
       "      <td>Silver</td>\n",
       "      <td>Beige</td>\n",
       "      <td>At least 1 accident or damage reported</td>\n",
       "      <td>Yes</td>\n",
       "      <td>4999</td>\n",
       "    </tr>\n",
       "    <tr>\n",
       "      <th>2</th>\n",
       "      <td>2</td>\n",
       "      <td>Chevrolet</td>\n",
       "      <td>Silverado 2500 LT</td>\n",
       "      <td>2002</td>\n",
       "      <td>136731</td>\n",
       "      <td>E85 Flex Fuel</td>\n",
       "      <td>320.0HP 5.3L 8 Cylinder Engine Flex Fuel Capab...</td>\n",
       "      <td>A/T</td>\n",
       "      <td>Blue</td>\n",
       "      <td>Gray</td>\n",
       "      <td>None reported</td>\n",
       "      <td>Yes</td>\n",
       "      <td>13900</td>\n",
       "    </tr>\n",
       "  </tbody>\n",
       "</table>\n",
       "</div>"
      ],
      "text/plain": [
       "   id      brand              model  model_year  milage      fuel_type  \\\n",
       "0   0       MINI      Cooper S Base        2007  213000       Gasoline   \n",
       "1   1    Lincoln              LS V8        2002  143250       Gasoline   \n",
       "2   2  Chevrolet  Silverado 2500 LT        2002  136731  E85 Flex Fuel   \n",
       "\n",
       "                                              engine transmission ext_col  \\\n",
       "0       172.0HP 1.6L 4 Cylinder Engine Gasoline Fuel          A/T  Yellow   \n",
       "1       252.0HP 3.9L 8 Cylinder Engine Gasoline Fuel          A/T  Silver   \n",
       "2  320.0HP 5.3L 8 Cylinder Engine Flex Fuel Capab...          A/T    Blue   \n",
       "\n",
       "  int_col                                accident clean_title  price  \n",
       "0    Gray                           None reported         Yes   4200  \n",
       "1   Beige  At least 1 accident or damage reported         Yes   4999  \n",
       "2    Gray                           None reported         Yes  13900  "
      ]
     },
     "execution_count": 71,
     "metadata": {},
     "output_type": "execute_result"
    }
   ],
   "source": [
    "df.head(3)"
   ]
  },
  {
   "cell_type": "code",
   "execution_count": 70,
   "id": "d1760340-7a62-4cd4-b0b8-1c300e53e71b",
   "metadata": {},
   "outputs": [
    {
     "data": {
      "text/plain": [
       "['id', 'model_year', 'milage', 'price']"
      ]
     },
     "execution_count": 70,
     "metadata": {},
     "output_type": "execute_result"
    }
   ],
   "source": [
    "list(df.select_dtypes(\"number\"))"
   ]
  },
  {
   "cell_type": "code",
   "execution_count": 72,
   "id": "7d25dbcf-c6c3-4c63-8269-68b03f2592b7",
   "metadata": {},
   "outputs": [
    {
     "data": {
      "text/plain": [
       "['brand',\n",
       " 'model',\n",
       " 'fuel_type',\n",
       " 'engine',\n",
       " 'transmission',\n",
       " 'ext_col',\n",
       " 'int_col',\n",
       " 'accident',\n",
       " 'clean_title']"
      ]
     },
     "execution_count": 72,
     "metadata": {},
     "output_type": "execute_result"
    }
   ],
   "source": [
    "list(df.select_dtypes(\"object\"))"
   ]
  },
  {
   "cell_type": "markdown",
   "id": "b2c43ac8-0ac0-403a-a3e6-bef0dbddab69",
   "metadata": {},
   "source": [
    "#### Data Cleaning"
   ]
  },
  {
   "cell_type": "code",
   "execution_count": 78,
   "id": "25624fbd-e287-4aad-9665-f5b31ed64f40",
   "metadata": {},
   "outputs": [],
   "source": [
    "df = func.cleaning_null(df)\n",
    "df = func.update_color(df,'ext_col')\n",
    "df = func.update_color(df,'int_col')"
   ]
  },
  {
   "cell_type": "markdown",
   "id": "5b0b3565-0004-4b64-bf30-18b17de1b3e8",
   "metadata": {},
   "source": [
    "#### Feature Engineering & Selection"
   ]
  },
  {
   "cell_type": "code",
   "execution_count": null,
   "id": "e468772f-83f3-481f-a41d-2ec428ae481e",
   "metadata": {},
   "outputs": [],
   "source": []
  },
  {
   "cell_type": "code",
   "execution_count": null,
   "id": "ff377ec9-f4e1-485a-82f9-41783c4711fc",
   "metadata": {},
   "outputs": [],
   "source": []
  },
  {
   "cell_type": "markdown",
   "id": "495871a5-45dc-467d-935b-3c13a4f35953",
   "metadata": {},
   "source": [
    "#### Model Building & Evaluation\n",
    "\n",
    "Model:\n",
    "- KNN Regressor\n",
    "- Linear Regression Model\n",
    "\n",
    "Evaluation:\n",
    "- RMSE\n",
    "- R2"
   ]
  },
  {
   "cell_type": "code",
   "execution_count": null,
   "id": "fba4b14a-8fcd-48c8-802a-b9d5b1967e65",
   "metadata": {},
   "outputs": [],
   "source": []
  }
 ],
 "metadata": {
  "kernelspec": {
   "display_name": "Python 3",
   "language": "python",
   "name": "python3"
  },
  "language_info": {
   "codemirror_mode": {
    "name": "ipython",
    "version": 3
   },
   "file_extension": ".py",
   "mimetype": "text/x-python",
   "name": "python",
   "nbconvert_exporter": "python",
   "pygments_lexer": "ipython3",
   "version": "3.8.8"
  }
 },
 "nbformat": 4,
 "nbformat_minor": 5
}
