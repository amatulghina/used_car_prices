{
 "cells": [
  {
   "cell_type": "code",
   "execution_count": 11,
   "metadata": {},
   "outputs": [],
   "source": [
    "import numpy as np\n",
    "import pandas as pd\n",
    "import functions as func\n",
    "import yaml\n",
    "import matplotlib.pyplot as plt\n",
    "import seaborn as sns\n",
    "from sklearn.model_selection import train_test_split\n",
    "from sklearn.preprocessing import MinMaxScaler, StandardScaler\n",
    "from sklearn.neighbors import KNeighborsRegressor\n",
    "from sklearn.linear_model import LinearRegression\n",
    "from sklearn.tree import DecisionTreeRegressor\n",
    "from sklearn.ensemble import BaggingRegressor, RandomForestRegressor,AdaBoostRegressor, GradientBoostingRegressor\n",
    "from sklearn.tree import export_text\n",
    "from sklearn.metrics import r2_score, mean_absolute_error, mean_squared_error\n",
    "import statsmodels.api as sm\n",
    "from sklearn.model_selection import GridSearchCV\n",
    "from sklearn.model_selection import RandomizedSearchCV\n",
    "\n",
    "%matplotlib inline\n",
    "\n",
    "db_locations = func.import_yaml()\n",
    "\n",
    "#load df\n",
    "#df = pd.read_csv(db_locations['data_raw']['train'])\n",
    "df = pd.read_csv(db_locations['data_clean']['train_merged'])"
   ]
  },
  {
   "cell_type": "markdown",
   "metadata": {},
   "source": [
    "#### Data Cleaning\n",
    "We used the cleaned data: db_locations['data_clean']['train_merged']"
   ]
  },
  {
   "cell_type": "markdown",
   "metadata": {},
   "source": [
    "#### Feature Engineering"
   ]
  },
  {
   "cell_type": "code",
   "execution_count": 19,
   "metadata": {},
   "outputs": [],
   "source": [
    "# One-hot encoding for ext_col', 'int_col'\n",
    "df = pd.get_dummies(df, columns=['ext_col', 'int_col'])"
   ]
  },
  {
   "cell_type": "code",
   "execution_count": 16,
   "metadata": {},
   "outputs": [],
   "source": []
  },
  {
   "cell_type": "markdown",
   "metadata": {},
   "source": [
    "#### Feature Selection"
   ]
  },
  {
   "cell_type": "markdown",
   "metadata": {},
   "source": [
    "Predictors:\n",
    "- brand: 57 brands: Ford (12%), Merc (10%), BMW (9%), Chev (8%)\n",
    "- model \n",
    "- model_year (numerical)\n",
    "- milage (numerical)\n",
    "- fuel_type: Diesel, Electric, Gasoline, Hybrid\n",
    "- engine\n",
    "    - horsepower (numerical)\n",
    "    - engine_size (numerical)\n",
    "    - cylinders (numerical)\n",
    "- transmission: Automatic, CVT, Manual, Other\n",
    "- ext_col: 16 colors: Black, White, Gray, Silver, etc\n",
    "- int_col: 13 colors: Black, Beige, Gray, etc\n",
    "- accident (dummy)\n",
    "- clean_title (dummy)\n",
    "\n",
    "Target:\n",
    "- price"
   ]
  },
  {
   "cell_type": "code",
   "execution_count": 18,
   "metadata": {},
   "outputs": [
    {
     "ename": "ValueError",
     "evalue": "could not convert string to float: 'Yellow'",
     "output_type": "error",
     "traceback": [
      "\u001b[0;31m---------------------------------------------------------------------------\u001b[0m",
      "\u001b[0;31mValueError\u001b[0m                                Traceback (most recent call last)",
      "Cell \u001b[0;32mIn[18], line 2\u001b[0m\n\u001b[1;32m      1\u001b[0m \u001b[38;5;66;03m# Create correlation matrix\u001b[39;00m\n\u001b[0;32m----> 2\u001b[0m corr_matrix \u001b[38;5;241m=\u001b[39m np\u001b[38;5;241m.\u001b[39mabs(df\u001b[38;5;241m.\u001b[39mcorr())\n",
      "File \u001b[0;32m~/anaconda3/envs/conda_base/lib/python3.12/site-packages/pandas/core/frame.py:11049\u001b[0m, in \u001b[0;36mDataFrame.corr\u001b[0;34m(self, method, min_periods, numeric_only)\u001b[0m\n\u001b[1;32m  11047\u001b[0m cols \u001b[38;5;241m=\u001b[39m data\u001b[38;5;241m.\u001b[39mcolumns\n\u001b[1;32m  11048\u001b[0m idx \u001b[38;5;241m=\u001b[39m cols\u001b[38;5;241m.\u001b[39mcopy()\n\u001b[0;32m> 11049\u001b[0m mat \u001b[38;5;241m=\u001b[39m data\u001b[38;5;241m.\u001b[39mto_numpy(dtype\u001b[38;5;241m=\u001b[39m\u001b[38;5;28mfloat\u001b[39m, na_value\u001b[38;5;241m=\u001b[39mnp\u001b[38;5;241m.\u001b[39mnan, copy\u001b[38;5;241m=\u001b[39m\u001b[38;5;28;01mFalse\u001b[39;00m)\n\u001b[1;32m  11051\u001b[0m \u001b[38;5;28;01mif\u001b[39;00m method \u001b[38;5;241m==\u001b[39m \u001b[38;5;124m\"\u001b[39m\u001b[38;5;124mpearson\u001b[39m\u001b[38;5;124m\"\u001b[39m:\n\u001b[1;32m  11052\u001b[0m     correl \u001b[38;5;241m=\u001b[39m libalgos\u001b[38;5;241m.\u001b[39mnancorr(mat, minp\u001b[38;5;241m=\u001b[39mmin_periods)\n",
      "File \u001b[0;32m~/anaconda3/envs/conda_base/lib/python3.12/site-packages/pandas/core/frame.py:1993\u001b[0m, in \u001b[0;36mDataFrame.to_numpy\u001b[0;34m(self, dtype, copy, na_value)\u001b[0m\n\u001b[1;32m   1991\u001b[0m \u001b[38;5;28;01mif\u001b[39;00m dtype \u001b[38;5;129;01mis\u001b[39;00m \u001b[38;5;129;01mnot\u001b[39;00m \u001b[38;5;28;01mNone\u001b[39;00m:\n\u001b[1;32m   1992\u001b[0m     dtype \u001b[38;5;241m=\u001b[39m np\u001b[38;5;241m.\u001b[39mdtype(dtype)\n\u001b[0;32m-> 1993\u001b[0m result \u001b[38;5;241m=\u001b[39m \u001b[38;5;28mself\u001b[39m\u001b[38;5;241m.\u001b[39m_mgr\u001b[38;5;241m.\u001b[39mas_array(dtype\u001b[38;5;241m=\u001b[39mdtype, copy\u001b[38;5;241m=\u001b[39mcopy, na_value\u001b[38;5;241m=\u001b[39mna_value)\n\u001b[1;32m   1994\u001b[0m \u001b[38;5;28;01mif\u001b[39;00m result\u001b[38;5;241m.\u001b[39mdtype \u001b[38;5;129;01mis\u001b[39;00m \u001b[38;5;129;01mnot\u001b[39;00m dtype:\n\u001b[1;32m   1995\u001b[0m     result \u001b[38;5;241m=\u001b[39m np\u001b[38;5;241m.\u001b[39masarray(result, dtype\u001b[38;5;241m=\u001b[39mdtype)\n",
      "File \u001b[0;32m~/anaconda3/envs/conda_base/lib/python3.12/site-packages/pandas/core/internals/managers.py:1694\u001b[0m, in \u001b[0;36mBlockManager.as_array\u001b[0;34m(self, dtype, copy, na_value)\u001b[0m\n\u001b[1;32m   1692\u001b[0m         arr\u001b[38;5;241m.\u001b[39mflags\u001b[38;5;241m.\u001b[39mwriteable \u001b[38;5;241m=\u001b[39m \u001b[38;5;28;01mFalse\u001b[39;00m\n\u001b[1;32m   1693\u001b[0m \u001b[38;5;28;01melse\u001b[39;00m:\n\u001b[0;32m-> 1694\u001b[0m     arr \u001b[38;5;241m=\u001b[39m \u001b[38;5;28mself\u001b[39m\u001b[38;5;241m.\u001b[39m_interleave(dtype\u001b[38;5;241m=\u001b[39mdtype, na_value\u001b[38;5;241m=\u001b[39mna_value)\n\u001b[1;32m   1695\u001b[0m     \u001b[38;5;66;03m# The underlying data was copied within _interleave, so no need\u001b[39;00m\n\u001b[1;32m   1696\u001b[0m     \u001b[38;5;66;03m# to further copy if copy=True or setting na_value\u001b[39;00m\n\u001b[1;32m   1698\u001b[0m \u001b[38;5;28;01mif\u001b[39;00m na_value \u001b[38;5;129;01mis\u001b[39;00m lib\u001b[38;5;241m.\u001b[39mno_default:\n",
      "File \u001b[0;32m~/anaconda3/envs/conda_base/lib/python3.12/site-packages/pandas/core/internals/managers.py:1753\u001b[0m, in \u001b[0;36mBlockManager._interleave\u001b[0;34m(self, dtype, na_value)\u001b[0m\n\u001b[1;32m   1751\u001b[0m     \u001b[38;5;28;01melse\u001b[39;00m:\n\u001b[1;32m   1752\u001b[0m         arr \u001b[38;5;241m=\u001b[39m blk\u001b[38;5;241m.\u001b[39mget_values(dtype)\n\u001b[0;32m-> 1753\u001b[0m     result[rl\u001b[38;5;241m.\u001b[39mindexer] \u001b[38;5;241m=\u001b[39m arr\n\u001b[1;32m   1754\u001b[0m     itemmask[rl\u001b[38;5;241m.\u001b[39mindexer] \u001b[38;5;241m=\u001b[39m \u001b[38;5;241m1\u001b[39m\n\u001b[1;32m   1756\u001b[0m \u001b[38;5;28;01mif\u001b[39;00m \u001b[38;5;129;01mnot\u001b[39;00m itemmask\u001b[38;5;241m.\u001b[39mall():\n",
      "\u001b[0;31mValueError\u001b[0m: could not convert string to float: 'Yellow'"
     ]
    }
   ],
   "source": [
    "# Create correlation matrix\n",
    "corr_matrix = np.abs(df.corr()) # corr(x,y) = corr(y, x), corr(x,x) = 1"
   ]
  },
  {
   "cell_type": "code",
   "execution_count": 13,
   "metadata": {},
   "outputs": [
    {
     "ename": "NameError",
     "evalue": "name 'corr_matrix' is not defined",
     "output_type": "error",
     "traceback": [
      "\u001b[0;31m---------------------------------------------------------------------------\u001b[0m",
      "\u001b[0;31mNameError\u001b[0m                                 Traceback (most recent call last)",
      "Cell \u001b[0;32mIn[13], line 5\u001b[0m\n\u001b[1;32m      1\u001b[0m threshold \u001b[38;5;241m=\u001b[39m \u001b[38;5;241m0.5\u001b[39m\n\u001b[1;32m      3\u001b[0m \u001b[38;5;66;03m# Create a mask to avoid duplicate pairs (since the matrix is symmetric)\u001b[39;00m\n\u001b[1;32m      4\u001b[0m \u001b[38;5;66;03m# Only keep the upper triangle of the matrix\u001b[39;00m\n\u001b[0;32m----> 5\u001b[0m upper_triangle \u001b[38;5;241m=\u001b[39m np\u001b[38;5;241m.\u001b[39mtriu(np\u001b[38;5;241m.\u001b[39mones(corr_matrix\u001b[38;5;241m.\u001b[39mshape), k\u001b[38;5;241m=\u001b[39m\u001b[38;5;241m1\u001b[39m)\u001b[38;5;241m.\u001b[39mastype(\u001b[38;5;28mbool\u001b[39m)\n\u001b[1;32m      7\u001b[0m \u001b[38;5;66;03m# Apply the mask to the correlation matrix and filter based on the threshold\u001b[39;00m\n\u001b[1;32m      8\u001b[0m filtered_corr \u001b[38;5;241m=\u001b[39m corr_matrix\u001b[38;5;241m.\u001b[39mwhere(upper_triangle)  \u001b[38;5;66;03m# Keep upper triangle\u001b[39;00m\n",
      "\u001b[0;31mNameError\u001b[0m: name 'corr_matrix' is not defined"
     ]
    }
   ],
   "source": [
    "threshold = 0.5\n",
    "\n",
    "# Create a mask to avoid duplicate pairs (since the matrix is symmetric)\n",
    "# Only keep the upper triangle of the matrix\n",
    "upper_triangle = np.triu(np.ones(corr_matrix.shape), k=1).astype(bool)\n",
    "\n",
    "# Apply the mask to the correlation matrix and filter based on the threshold\n",
    "filtered_corr = corr_matrix.where(upper_triangle)  # Keep upper triangle\n",
    "\n",
    "# Find pairs with correlation higher than the threshold\n",
    "high_corr_pairs = filtered_corr.stack().reset_index()\n",
    "\n",
    "# Rename the columns for clarity\n",
    "high_corr_pairs.columns = ['Feature 1', 'Feature 2', 'Correlation']\n",
    "\n",
    "# Filter the pairs based on the threshold\n",
    "high_corr_pairs = high_corr_pairs[high_corr_pairs['Correlation'].abs() > threshold]"
   ]
  },
  {
   "cell_type": "code",
   "execution_count": 4,
   "metadata": {},
   "outputs": [
    {
     "ename": "NameError",
     "evalue": "name 'high_corr_pairs' is not defined",
     "output_type": "error",
     "traceback": [
      "\u001b[0;31m---------------------------------------------------------------------------\u001b[0m",
      "\u001b[0;31mNameError\u001b[0m                                 Traceback (most recent call last)",
      "Cell \u001b[0;32mIn[4], line 1\u001b[0m\n\u001b[0;32m----> 1\u001b[0m high_corr_pairs\u001b[38;5;241m.\u001b[39msort_values(by\u001b[38;5;241m=\u001b[39m\u001b[38;5;124m'\u001b[39m\u001b[38;5;124mCorrelation\u001b[39m\u001b[38;5;124m'\u001b[39m, ascending\u001b[38;5;241m=\u001b[39m\u001b[38;5;28;01mFalse\u001b[39;00m)\n",
      "\u001b[0;31mNameError\u001b[0m: name 'high_corr_pairs' is not defined"
     ]
    }
   ],
   "source": [
    "high_corr_pairs.sort_values(by='Correlation', ascending=False)"
   ]
  },
  {
   "cell_type": "code",
   "execution_count": 320,
   "metadata": {},
   "outputs": [
    {
     "data": {
      "text/plain": [
       "price                     1.000000\n",
       "milage                    0.284189\n",
       "horsepower                0.276135\n",
       "model_year                0.236145\n",
       "cylinders                 0.132266\n",
       "accident                  0.125423\n",
       "engine_size               0.096972\n",
       "brand_Lamborghini         0.096535\n",
       "clean_title               0.089867\n",
       "brand_Bentley             0.085501\n",
       "brand_Porsche             0.083633\n",
       "ext_col_Others            0.074695\n",
       "int_col_Gray              0.068767\n",
       "int_col_Beige             0.067914\n",
       "brand_Rolls-Royce         0.063265\n",
       "int_col_Others            0.052033\n",
       "fuel_type_Gasoline        0.044026\n",
       "transmission_Automatic    0.043217\n",
       "ext_col_Silver            0.042090\n",
       "brand_Toyota              0.041665\n",
       "brand_Ferrari             0.040802\n",
       "transmission_Manual       0.038521\n",
       "int_col_Black             0.036528\n",
       "brand_McLaren             0.036367\n",
       "fuel_type_Electric        0.035577\n",
       "int_col_Red               0.035465\n",
       "brand_Subaru              0.032303\n",
       "brand_Mercedes-Benz       0.031583\n",
       "brand_Aston               0.031268\n",
       "int_col_White             0.029462\n",
       "ext_col_Gray              0.028438\n",
       "brand_Honda               0.028407\n",
       "brand_Mazda               0.028133\n",
       "fuel_type_Hybrid          0.027655\n",
       "brand_Land                0.027384\n",
       "brand_Nissan              0.027049\n",
       "brand_Rivian              0.026576\n",
       "ext_col_Green             0.025773\n",
       "brand_MINI                0.025699\n",
       "ext_col_Metallic          0.025629\n",
       "Name: price, dtype: float64"
      ]
     },
     "execution_count": 320,
     "metadata": {},
     "output_type": "execute_result"
    }
   ],
   "source": [
    "# Checking features which has high correlation with Price\n",
    "corr_matrix[\"price\"].sort_values(ascending=False).head(40)"
   ]
  },
  {
   "cell_type": "code",
   "execution_count": 20,
   "metadata": {},
   "outputs": [],
   "source": [
    "df.dropna(inplace=True)"
   ]
  },
  {
   "cell_type": "markdown",
   "metadata": {},
   "source": [
    "#### Train Test Split"
   ]
  },
  {
   "cell_type": "code",
   "execution_count": 22,
   "metadata": {},
   "outputs": [],
   "source": [
    "features = df[['brand_Lamborghini','brand_Bentley','brand_Porsche','brand_Rolls-Royce','brand_Toyota','brand_Ferrari','brand_McLaren','brand_Mercedes-Benz','brand_Aston','brand_Honda','brand_Mazda','brand_Land','brand_Lexus','model_year','milage','horsepower','fuel_type_Gasoline','transmission_Automatic','ext_col_Silver','int_col_Beige','accident','clean_title']]\n",
    "target = df['price']"
   ]
  },
  {
   "cell_type": "code",
   "execution_count": 390,
   "metadata": {},
   "outputs": [],
   "source": [
    "#features = df[['model_year','milage','horsepower','fuel_type_Gasoline','transmission_Automatic','accident','clean_title']]\n",
    "#target = df['price']"
   ]
  },
  {
   "cell_type": "code",
   "execution_count": 23,
   "metadata": {},
   "outputs": [],
   "source": [
    "x_train, x_test, y_train, y_test = train_test_split(features, target, test_size = 0.20, random_state=0)"
   ]
  },
  {
   "cell_type": "markdown",
   "metadata": {},
   "source": [
    "#### Normalization"
   ]
  },
  {
   "cell_type": "code",
   "execution_count": 427,
   "metadata": {},
   "outputs": [],
   "source": [
    "normalizer = MinMaxScaler()\n",
    "normalizer.fit(x_train)\n",
    "x_train_norm = normalizer.transform(x_train)\n",
    "x_test_norm = normalizer.transform(x_test)"
   ]
  },
  {
   "cell_type": "code",
   "execution_count": 428,
   "metadata": {},
   "outputs": [],
   "source": [
    "x_train_norm = pd.DataFrame(x_train_norm, columns = x_train.columns)\n",
    "x_test_norm = pd.DataFrame(x_test_norm, columns = x_test.columns)"
   ]
  },
  {
   "cell_type": "markdown",
   "metadata": {},
   "source": [
    "#### Regression Model & Evaluation\n",
    "- KNN Regression (Aisyah)\n",
    "- Linear Regression (Aisyah)\n",
    "- Decision Trees (Paola)\n",
    "- Bagging and Pasting (Paola)\n",
    "- Random Forest (Flory)\n",
    "- Gradient Boosting (Flory)\n",
    "- Adaptive Boosting (Paola)"
   ]
  },
  {
   "cell_type": "markdown",
   "metadata": {},
   "source": [
    "**KNN Regression**"
   ]
  },
  {
   "cell_type": "code",
   "execution_count": 250,
   "metadata": {},
   "outputs": [
    {
     "name": "stdout",
     "output_type": "stream",
     "text": [
      "MAE 15343.22642271021\n",
      "RMSE 54536.190173016235\n",
      "R2:  0.35\n"
     ]
    }
   ],
   "source": [
    "knn5 = KNeighborsRegressor(n_neighbors=5)\n",
    "knn5.fit(x_train, y_train)\n",
    "pred = knn5.predict(x_train)\n",
    "print(\"MAE\", round(mean_absolute_error(pred, y_train),2))\n",
    "print(\"RMSE\", round(mean_squared_error(pred, y_train, squared=False),2))\n",
    "print(f\"R2: {knn5.score(x_train, y_train): .2f}\")"
   ]
  },
  {
   "cell_type": "code",
   "execution_count": 251,
   "metadata": {},
   "outputs": [
    {
     "name": "stdout",
     "output_type": "stream",
     "text": [
      "MAE 18736.61541425819\n",
      "RMSE 68115.88078192051\n",
      "R2:  0.01\n"
     ]
    }
   ],
   "source": [
    "pred = knn5.predict(x_test)\n",
    "print(\"MAE\", round(mean_absolute_error(pred, y_test),2))\n",
    "print(\"RMSE\", round(mean_squared_error(pred, y_test, squared=False),2))\n",
    "print(f\"R2: {knn5.score(x_test, y_test): .2f}\")"
   ]
  },
  {
   "cell_type": "code",
   "execution_count": 252,
   "metadata": {},
   "outputs": [
    {
     "name": "stdout",
     "output_type": "stream",
     "text": [
      "MAE 16235.936362164048\n",
      "RMSE 57577.9527119675\n",
      "R2:  0.27\n"
     ]
    }
   ],
   "source": [
    "knn8 = KNeighborsRegressor(n_neighbors=8)\n",
    "knn8.fit(x_train, y_train)\n",
    "pred = knn8.predict(x_train)\n",
    "print(\"MAE\", round(mean_absolute_error(pred, y_train),2))\n",
    "print(\"RMSE\", round(mean_squared_error(pred, y_train, squared=False),2))\n",
    "print(f\"R2: {knn8.score(x_train, y_train): .2f}\")"
   ]
  },
  {
   "cell_type": "code",
   "execution_count": 253,
   "metadata": {},
   "outputs": [
    {
     "name": "stdout",
     "output_type": "stream",
     "text": [
      "MAE 18447.614739053883\n",
      "RMSE 66724.60583957477\n",
      "R2:  0.05\n"
     ]
    }
   ],
   "source": [
    "pred = knn8.predict(x_test)\n",
    "print(\"MAE\", round(mean_absolute_error(pred, y_test),2))\n",
    "print(\"RMSE\", round(mean_squared_error(pred, y_test, squared=False),2))\n",
    "print(f\"R2: {knn8.score(x_test, y_test): .2f}\")"
   ]
  },
  {
   "cell_type": "code",
   "execution_count": 254,
   "metadata": {},
   "outputs": [
    {
     "name": "stdout",
     "output_type": "stream",
     "text": [
      "MAE 16488.86688316003\n",
      "RMSE 58476.61960234941\n",
      "R2:  0.25\n"
     ]
    }
   ],
   "source": [
    "knn10 = KNeighborsRegressor(n_neighbors=10)\n",
    "knn10.fit(x_train, y_train)\n",
    "pred = knn10.predict(x_train)\n",
    "print(\"MAE\", round(mean_absolute_error(pred, y_train),2))\n",
    "print(\"RMSE\", round(mean_squared_error(pred, y_train, squared=False),2))\n",
    "print(f\"R2: {knn10.score(x_train, y_train): .2f}\")"
   ]
  },
  {
   "cell_type": "code",
   "execution_count": 255,
   "metadata": {},
   "outputs": [
    {
     "name": "stdout",
     "output_type": "stream",
     "text": [
      "MAE 18270.39\n",
      "RMSE 65993.76\n",
      "R2:  0.07\n"
     ]
    }
   ],
   "source": [
    "pred = knn10.predict(x_test)\n",
    "print(\"MAE\", round(mean_absolute_error(pred, y_test),2))\n",
    "print(\"RMSE\", round(mean_squared_error(pred, y_test, squared=False),2))\n",
    "print(f\"R2: {knn10.score(x_test, y_test): .2f}\")"
   ]
  },
  {
   "cell_type": "code",
   "execution_count": 266,
   "metadata": {},
   "outputs": [
    {
     "name": "stdout",
     "output_type": "stream",
     "text": [
      "MAE 16192.93\n",
      "RMSE 58489.56\n",
      "R2:  0.25\n"
     ]
    }
   ],
   "source": [
    "knn10 = KNeighborsRegressor(n_neighbors=10)\n",
    "knn10.fit(x_train_norm, y_train)\n",
    "pred = knn10.predict(x_train_norm)\n",
    "print(\"MAE\", round(mean_absolute_error(pred, y_train),2))\n",
    "print(\"RMSE\", round(mean_squared_error(pred, y_train, squared=False),2))\n",
    "print(f\"R2: {knn10.score(x_train_norm, y_train): .2f}\")"
   ]
  },
  {
   "cell_type": "code",
   "execution_count": 267,
   "metadata": {},
   "outputs": [
    {
     "name": "stdout",
     "output_type": "stream",
     "text": [
      "MAE 17621.76\n",
      "RMSE 65671.77\n",
      "R2:  0.08\n"
     ]
    }
   ],
   "source": [
    "pred = knn10.predict(x_test_norm)\n",
    "print(\"MAE\", round(mean_absolute_error(pred, y_test),2))\n",
    "print(\"RMSE\", round(mean_squared_error(pred, y_test, squared=False),2))\n",
    "print(f\"R2: {knn10.score(x_test_norm, y_test): .2f}\")"
   ]
  },
  {
   "cell_type": "markdown",
   "metadata": {},
   "source": [
    "**Linear Regression**"
   ]
  },
  {
   "cell_type": "code",
   "execution_count": 346,
   "metadata": {},
   "outputs": [
    {
     "name": "stdout",
     "output_type": "stream",
     "text": [
      "MAE 18905.0\n",
      "RMSE 63030.71\n",
      "R2 0.13\n"
     ]
    }
   ],
   "source": [
    "lin_reg = LinearRegression()\n",
    "lin_reg.fit(x_train_norm, y_train)\n",
    "pred = lin_reg.predict(x_train_norm)\n",
    "print(\"MAE\", round(mean_absolute_error(pred, y_train),2))\n",
    "print(\"RMSE\", round(mean_squared_error(pred, y_train, squared=False),2))\n",
    "print(\"R2\", round(lin_reg.score(x_train_norm, y_train),2))"
   ]
  },
  {
   "cell_type": "code",
   "execution_count": 347,
   "metadata": {},
   "outputs": [
    {
     "name": "stdout",
     "output_type": "stream",
     "text": [
      "MAE 18764.52\n",
      "RMSE 63775.98\n",
      "R2 0.13\n"
     ]
    }
   ],
   "source": [
    "lin_reg = LinearRegression()\n",
    "lin_reg.fit(x_test_norm, y_test)\n",
    "pred = lin_reg.predict(x_test_norm)\n",
    "print(\"MAE\", round(mean_absolute_error(pred, y_test),2))\n",
    "print(\"RMSE\", round(mean_squared_error(pred, y_test, squared=False),2))\n",
    "print(\"R2\", round(lin_reg.score(x_test_norm, y_test),2))"
   ]
  },
  {
   "cell_type": "code",
   "execution_count": 269,
   "metadata": {},
   "outputs": [
    {
     "name": "stdout",
     "output_type": "stream",
     "text": [
      "MAE 18905.0\n",
      "RMSE 63030.71\n",
      "R2 0.1285\n"
     ]
    }
   ],
   "source": [
    "lin_reg = LinearRegression()\n",
    "lin_reg.fit(x_train, y_train)\n",
    "pred = lin_reg.predict(x_train)\n",
    "print(\"MAE\", round(mean_absolute_error(pred, y_train),2))\n",
    "print(\"RMSE\", round(mean_squared_error(pred, y_train, squared=False),2))\n",
    "print(\"R2\", round(lin_reg.score(x_train, y_train),4))"
   ]
  },
  {
   "cell_type": "code",
   "execution_count": 257,
   "metadata": {},
   "outputs": [
    {
     "name": "stdout",
     "output_type": "stream",
     "text": [
      "MAE 18764.52\n",
      "RMSE 63775.98\n",
      "R2 0.1306\n"
     ]
    }
   ],
   "source": [
    "lin_reg = LinearRegression()\n",
    "lin_reg.fit(x_test, y_test)\n",
    "pred = lin_reg.predict(x_test)\n",
    "print(\"MAE\", round(mean_absolute_error(pred, y_test),2))\n",
    "print(\"RMSE\", round(mean_squared_error(pred, y_test, squared=False),2))\n",
    "print(\"R2\", round(lin_reg.score(x_test, y_test),4))"
   ]
  },
  {
   "cell_type": "code",
   "execution_count": 258,
   "metadata": {},
   "outputs": [
    {
     "data": {
      "text/plain": [
       "{'brand_Lamborghini': 62059.85921591837,\n",
       " 'brand_Bentley': 41683.39125625693,\n",
       " 'brand_Porsche': 17563.75176351432,\n",
       " 'brand_Rolls-Royce': 56581.32347680951,\n",
       " 'brand_Toyota': 4503.788740985932,\n",
       " 'brand_Ferrari': 34373.70147518913,\n",
       " 'brand_McLaren': 30045.481180099894,\n",
       " 'brand_Mercedes-Benz': 3270.860652314882,\n",
       " 'brand_Aston': 113723.18945526963,\n",
       " 'brand_Honda': 6132.627299627769,\n",
       " 'brand_Mazda': 10665.421200089699,\n",
       " 'brand_Land': 6109.0677728725395,\n",
       " 'brand_Lexus': 3347.5232505647077,\n",
       " 'model_year': 851.5258860083977,\n",
       " 'milage': -0.23685739205609482,\n",
       " 'horsepower': 89.32676358828957,\n",
       " 'fuel_type_Gasoline': -4223.286589988465,\n",
       " 'transmission_Automatic': -39.18627822760944,\n",
       " 'ext_col_Silver': -3623.038502456024,\n",
       " 'int_col_Beige': -1825.0155948654533,\n",
       " 'accident': -3588.754323168338,\n",
       " 'clean_title': -9665.840653856172}"
      ]
     },
     "execution_count": 258,
     "metadata": {},
     "output_type": "execute_result"
    }
   ],
   "source": [
    "lin_reg_coef = {feature : coef for feature, coef in zip(x_train.columns, lin_reg.coef_)}\n",
    "lin_reg_coef"
   ]
  },
  {
   "cell_type": "code",
   "execution_count": 259,
   "metadata": {},
   "outputs": [
    {
     "name": "stdout",
     "output_type": "stream",
     "text": [
      "                                 OLS Regression Results                                \n",
      "=======================================================================================\n",
      "Dep. Variable:                  price   R-squared (uncentered):                   0.344\n",
      "Model:                            OLS   Adj. R-squared (uncentered):              0.344\n",
      "Method:                 Least Squares   F-statistic:                              2872.\n",
      "Date:                Thu, 19 Sep 2024   Prob (F-statistic):                        0.00\n",
      "Time:                        11:25:18   Log-Likelihood:                     -1.5016e+06\n",
      "No. Observations:              120404   AIC:                                  3.003e+06\n",
      "Df Residuals:                  120382   BIC:                                  3.004e+06\n",
      "Df Model:                          22                                                  \n",
      "Covariance Type:            nonrobust                                                  \n",
      "==========================================================================================\n",
      "                             coef    std err          t      P>|t|      [0.025      0.975]\n",
      "------------------------------------------------------------------------------------------\n",
      "brand_Lamborghini       5.231e+04   3714.041     14.085      0.000     4.5e+04    5.96e+04\n",
      "brand_Bentley           3.142e+04   2545.444     12.342      0.000    2.64e+04    3.64e+04\n",
      "brand_Porsche           1.518e+04    801.583     18.939      0.000    1.36e+04    1.68e+04\n",
      "brand_Rolls-Royce       3.329e+04   4078.024      8.162      0.000    2.53e+04    4.13e+04\n",
      "brand_Toyota            2691.5581    858.828      3.134      0.002    1008.269    4374.847\n",
      "brand_Ferrari           3.717e+04   4759.162      7.811      0.000    2.78e+04    4.65e+04\n",
      "brand_McLaren           3.458e+04   5783.881      5.979      0.000    2.32e+04    4.59e+04\n",
      "brand_Mercedes-Benz     3760.6862    617.445      6.091      0.000    2550.503    4970.869\n",
      "brand_Aston             1.349e+04   5525.859      2.441      0.015    2656.636    2.43e+04\n",
      "brand_Honda             6135.7050   1732.742      3.541      0.000    2739.558    9531.852\n",
      "brand_Mazda             5482.6342   1779.357      3.081      0.002    1995.123    8970.145\n",
      "brand_Land              3305.5539    841.123      3.930      0.000    1656.967    4954.141\n",
      "brand_Lexus             4416.5948    860.755      5.131      0.000    2729.529    6103.660\n",
      "model_year                18.0155      1.006     17.910      0.000      16.044      19.987\n",
      "milage                    -0.2877      0.004    -68.914      0.000      -0.296      -0.280\n",
      "horsepower                94.3783      1.985     47.554      0.000      90.488      98.268\n",
      "fuel_type_Gasoline     -7731.1788    776.249     -9.960      0.000   -9252.614   -6209.744\n",
      "transmission_Automatic  3751.5866    579.443      6.474      0.000    2615.887    4887.286\n",
      "ext_col_Silver         -2643.2207    605.967     -4.362      0.000   -3830.907   -1455.535\n",
      "int_col_Beige          -2709.9856    516.103     -5.251      0.000   -3721.539   -1698.433\n",
      "accident               -4083.4090    439.926     -9.282      0.000   -4945.657   -3221.161\n",
      "clean_title            -4916.5701   1656.090     -2.969      0.003   -8162.480   -1670.660\n",
      "==============================================================================\n",
      "Omnibus:                   295533.000   Durbin-Watson:                   1.997\n",
      "Prob(Omnibus):                  0.000   Jarque-Bera (JB):       4996917631.069\n",
      "Skew:                          26.233   Prob(JB):                         0.00\n",
      "Kurtosis:                     999.633   Cond. No.                     2.83e+06\n",
      "==============================================================================\n",
      "\n",
      "Warnings:\n",
      "[1] Standard Errors assume that the covariance matrix of the errors is correctly specified.\n",
      "[2] The condition number is large, 2.83e+06. This might indicate that there are\n",
      "strong multicollinearity or other numerical problems.\n"
     ]
    }
   ],
   "source": [
    "est = sm.OLS(y_train, x_train)\n",
    "est2 = est.fit()\n",
    "print(est2.summary())"
   ]
  },
  {
   "cell_type": "markdown",
   "metadata": {},
   "source": [
    "**Decision Trees**"
   ]
  },
  {
   "cell_type": "code",
   "execution_count": 436,
   "metadata": {},
   "outputs": [
    {
     "data": {
      "text/plain": [
       "DecisionTreeRegressor(max_depth=5)"
      ]
     },
     "execution_count": 436,
     "metadata": {},
     "output_type": "execute_result"
    }
   ],
   "source": [
    "tree = DecisionTreeRegressor(max_depth=5)\n",
    "tree.fit(x_train_norm, y_train)"
   ]
  },
  {
   "cell_type": "code",
   "execution_count": 437,
   "metadata": {},
   "outputs": [
    {
     "name": "stdout",
     "output_type": "stream",
     "text": [
      "MAE,  17086.12\n",
      "RMSE,  62104.66\n",
      "R2 score,  0.15\n"
     ]
    }
   ],
   "source": [
    "pred = tree.predict(x_train_norm)\n",
    "\n",
    "print(f\"MAE, {mean_absolute_error(pred, y_train): .2f}\")\n",
    "print(f\"RMSE, {mean_squared_error(pred, y_train, squared=False): .2f}\")\n",
    "print(f\"R2 score, {tree.score(x_train_norm, y_train): .2f}\")"
   ]
  },
  {
   "cell_type": "code",
   "execution_count": 438,
   "metadata": {},
   "outputs": [
    {
     "name": "stdout",
     "output_type": "stream",
     "text": [
      "MAE,  17058.02\n",
      "RMSE,  63677.51\n",
      "R2 score,  0.13\n"
     ]
    }
   ],
   "source": [
    "pred = tree.predict(x_test_norm)\n",
    "\n",
    "print(f\"MAE, {mean_absolute_error(pred, y_test): .2f}\")\n",
    "print(f\"RMSE, {mean_squared_error(pred, y_test, squared=False): .2f}\")\n",
    "print(f\"R2 score, {tree.score(x_test_norm, y_test): .2f}\")"
   ]
  },
  {
   "cell_type": "code",
   "execution_count": 439,
   "metadata": {},
   "outputs": [
    {
     "data": {
      "text/plain": [
       "{'brand_Lamborghini': 0.0,\n",
       " 'brand_Bentley': 0.0,\n",
       " 'brand_Porsche': 0.022372575422196003,\n",
       " 'brand_Rolls-Royce': 0.0,\n",
       " 'brand_Toyota': 0.0,\n",
       " 'brand_Ferrari': 0.0,\n",
       " 'brand_McLaren': 0.0,\n",
       " 'brand_Mercedes-Benz': 0.0,\n",
       " 'brand_Aston': 0.0,\n",
       " 'brand_Honda': 0.0,\n",
       " 'brand_Mazda': 0.0,\n",
       " 'brand_Land': 0.0,\n",
       " 'brand_Lexus': 0.0,\n",
       " 'model_year': 0.08043960683725168,\n",
       " 'milage': 0.7432303609744664,\n",
       " 'horsepower': 0.15395745676608588,\n",
       " 'fuel_type_Gasoline': 0.0,\n",
       " 'transmission_Automatic': 0.0,\n",
       " 'ext_col_Silver': 0.0,\n",
       " 'int_col_Beige': 0.0,\n",
       " 'accident': 0.0,\n",
       " 'clean_title': 0.0}"
      ]
     },
     "execution_count": 439,
     "metadata": {},
     "output_type": "execute_result"
    }
   ],
   "source": [
    "tree_importance = {feature : importance for feature, importance in zip(x_train_norm.columns, tree.feature_importances_)}\n",
    "tree_importance"
   ]
  },
  {
   "cell_type": "code",
   "execution_count": 440,
   "metadata": {},
   "outputs": [
    {
     "name": "stdout",
     "output_type": "stream",
     "text": [
      "|--- milage <= 0.09\n",
      "|   |--- horsepower <= 0.54\n",
      "|   |   |--- milage <= 0.03\n",
      "|   |   |   |--- horsepower <= 0.39\n",
      "|   |   |   |   |--- model_year <= 0.91\n",
      "|   |   |   |   |   |--- value: [51433.34]\n",
      "|   |   |   |   |--- model_year >  0.91\n",
      "|   |   |   |   |   |--- value: [70524.62]\n",
      "|   |   |   |--- horsepower >  0.39\n",
      "|   |   |   |   |--- brand_Porsche <= 0.50\n",
      "|   |   |   |   |   |--- value: [78141.50]\n",
      "|   |   |   |   |--- brand_Porsche >  0.50\n",
      "|   |   |   |   |   |--- value: [104390.53]\n",
      "|   |   |--- milage >  0.03\n",
      "|   |   |   |--- horsepower <= 0.42\n",
      "|   |   |   |   |--- model_year <= 0.91\n",
      "|   |   |   |   |   |--- value: [44728.30]\n",
      "|   |   |   |   |--- model_year >  0.91\n",
      "|   |   |   |   |   |--- value: [56430.45]\n",
      "|   |   |   |--- horsepower >  0.42\n",
      "|   |   |   |   |--- brand_Porsche <= 0.50\n",
      "|   |   |   |   |   |--- value: [62716.26]\n",
      "|   |   |   |   |--- brand_Porsche >  0.50\n",
      "|   |   |   |   |   |--- value: [87973.59]\n",
      "|   |--- horsepower >  0.54\n",
      "|   |   |--- milage <= 0.02\n",
      "|   |   |   |--- brand_Porsche <= 0.50\n",
      "|   |   |   |   |--- horsepower <= 0.67\n",
      "|   |   |   |   |   |--- value: [98626.71]\n",
      "|   |   |   |   |--- horsepower >  0.67\n",
      "|   |   |   |   |   |--- value: [128295.48]\n",
      "|   |   |   |--- brand_Porsche >  0.50\n",
      "|   |   |   |   |--- model_year <= 0.71\n",
      "|   |   |   |   |   |--- value: [773865.00]\n",
      "|   |   |   |   |--- model_year >  0.71\n",
      "|   |   |   |   |   |--- value: [150862.49]\n",
      "|   |   |--- milage >  0.02\n",
      "|   |   |   |--- horsepower <= 0.67\n",
      "|   |   |   |   |--- model_year <= 0.63\n",
      "|   |   |   |   |   |--- value: [178741.77]\n",
      "|   |   |   |   |--- model_year >  0.63\n",
      "|   |   |   |   |   |--- value: [82761.33]\n",
      "|   |   |   |--- horsepower >  0.67\n",
      "|   |   |   |   |--- brand_Porsche <= 0.50\n",
      "|   |   |   |   |   |--- value: [97897.58]\n",
      "|   |   |   |   |--- brand_Porsche >  0.50\n",
      "|   |   |   |   |   |--- value: [132055.39]\n",
      "|--- milage >  0.09\n",
      "|   |--- milage <= 0.20\n",
      "|   |   |--- horsepower <= 0.36\n",
      "|   |   |   |--- model_year <= 0.87\n",
      "|   |   |   |   |--- milage <= 0.12\n",
      "|   |   |   |   |   |--- value: [33749.15]\n",
      "|   |   |   |   |--- milage >  0.12\n",
      "|   |   |   |   |   |--- value: [24005.01]\n",
      "|   |   |   |--- model_year >  0.87\n",
      "|   |   |   |   |--- model_year <= 0.91\n",
      "|   |   |   |   |   |--- value: [33340.80]\n",
      "|   |   |   |   |--- model_year >  0.91\n",
      "|   |   |   |   |   |--- value: [41269.67]\n",
      "|   |   |--- horsepower >  0.36\n",
      "|   |   |   |--- horsepower <= 0.54\n",
      "|   |   |   |   |--- model_year <= 0.91\n",
      "|   |   |   |   |   |--- value: [39116.62]\n",
      "|   |   |   |   |--- model_year >  0.91\n",
      "|   |   |   |   |   |--- value: [53657.60]\n",
      "|   |   |   |--- horsepower >  0.54\n",
      "|   |   |   |   |--- milage <= 0.19\n",
      "|   |   |   |   |   |--- value: [57520.94]\n",
      "|   |   |   |   |--- milage >  0.19\n",
      "|   |   |   |   |   |--- value: [102010.18]\n",
      "|   |--- milage >  0.20\n",
      "|   |   |--- model_year <= 0.83\n",
      "|   |   |   |--- horsepower <= 0.37\n",
      "|   |   |   |   |--- milage <= 0.26\n",
      "|   |   |   |   |   |--- value: [17484.25]\n",
      "|   |   |   |   |--- milage >  0.26\n",
      "|   |   |   |   |   |--- value: [11966.24]\n",
      "|   |   |   |--- horsepower >  0.37\n",
      "|   |   |   |   |--- model_year <= 0.55\n",
      "|   |   |   |   |   |--- value: [61107.47]\n",
      "|   |   |   |   |--- model_year >  0.55\n",
      "|   |   |   |   |   |--- value: [20737.11]\n",
      "|   |   |--- model_year >  0.83\n",
      "|   |   |   |--- model_year <= 0.87\n",
      "|   |   |   |   |--- horsepower <= 0.38\n",
      "|   |   |   |   |   |--- value: [22294.26]\n",
      "|   |   |   |   |--- horsepower >  0.38\n",
      "|   |   |   |   |   |--- value: [29442.78]\n",
      "|   |   |   |--- model_year >  0.87\n",
      "|   |   |   |   |--- horsepower <= 0.44\n",
      "|   |   |   |   |   |--- value: [33353.20]\n",
      "|   |   |   |   |--- horsepower >  0.44\n",
      "|   |   |   |   |   |--- value: [50200.86]\n",
      "\n"
     ]
    }
   ],
   "source": [
    "tree_viz = export_text(tree, feature_names=list(x_train_norm.columns))\n",
    "print(tree_viz)"
   ]
  },
  {
   "cell_type": "markdown",
   "metadata": {},
   "source": [
    "**Bagging and Pasting**"
   ]
  },
  {
   "cell_type": "code",
   "execution_count": 493,
   "metadata": {},
   "outputs": [],
   "source": [
    "bagging_reg = BaggingRegressor(DecisionTreeRegressor(max_depth=5),\n",
    "                               n_estimators=100,\n",
    "                               max_samples = 1000)"
   ]
  },
  {
   "cell_type": "code",
   "execution_count": 494,
   "metadata": {},
   "outputs": [
    {
     "data": {
      "text/plain": [
       "BaggingRegressor(base_estimator=DecisionTreeRegressor(max_depth=5),\n",
       "                 max_samples=1000, n_estimators=100)"
      ]
     },
     "execution_count": 494,
     "metadata": {},
     "output_type": "execute_result"
    }
   ],
   "source": [
    "bagging_reg.fit(x_train_norm, y_train)"
   ]
  },
  {
   "cell_type": "code",
   "execution_count": 495,
   "metadata": {},
   "outputs": [
    {
     "name": "stdout",
     "output_type": "stream",
     "text": [
      "MAE  16999.82\n",
      "RMSE  62138.30\n",
      "R2 score  0.15\n"
     ]
    }
   ],
   "source": [
    "pred = bagging_reg.predict(x_train_norm)\n",
    "\n",
    "print(f\"MAE {mean_absolute_error(pred, y_train): .2f}\")\n",
    "print(f\"RMSE {mean_squared_error(pred, y_train, squared=False): .2f}\")\n",
    "print(f\"R2 score {bagging_reg.score(x_train_norm, y_train): .2f}\")"
   ]
  },
  {
   "cell_type": "code",
   "execution_count": 496,
   "metadata": {},
   "outputs": [
    {
     "name": "stdout",
     "output_type": "stream",
     "text": [
      "MAE  16979.84\n",
      "RMSE  63378.77\n",
      "R2 score  0.14\n"
     ]
    }
   ],
   "source": [
    "pred = bagging_reg.predict(x_test_norm)\n",
    "\n",
    "print(f\"MAE {mean_absolute_error(pred, y_test): .2f}\")\n",
    "print(f\"RMSE {mean_squared_error(pred, y_test, squared=False): .2f}\")\n",
    "print(f\"R2 score {bagging_reg.score(x_test_norm, y_test): .2f}\")"
   ]
  },
  {
   "cell_type": "markdown",
   "metadata": {},
   "source": [
    "**Random Patches**"
   ]
  },
  {
   "cell_type": "code",
   "execution_count": 497,
   "metadata": {},
   "outputs": [],
   "source": [
    "forest = RandomForestRegressor(n_estimators=100,max_depth=5)"
   ]
  },
  {
   "cell_type": "code",
   "execution_count": 498,
   "metadata": {},
   "outputs": [
    {
     "data": {
      "text/plain": [
       "RandomForestRegressor(max_depth=5)"
      ]
     },
     "execution_count": 498,
     "metadata": {},
     "output_type": "execute_result"
    }
   ],
   "source": [
    "forest.fit(x_train_norm, y_train)"
   ]
  },
  {
   "cell_type": "code",
   "execution_count": 499,
   "metadata": {},
   "outputs": [
    {
     "name": "stdout",
     "output_type": "stream",
     "text": [
      "MAE,  16720.68\n",
      "RMSE,  61442.69\n",
      "R2 score,  0.17\n"
     ]
    }
   ],
   "source": [
    "pred = forest.predict(x_train_norm)\n",
    "\n",
    "print(f\"MAE, {mean_absolute_error(pred, y_train): .2f}\")\n",
    "print(f\"RMSE, {mean_squared_error(pred, y_train, squared=False): .2f}\")\n",
    "print(f\"R2 score, {forest.score(x_train_norm, y_train): .2f}\")"
   ]
  },
  {
   "cell_type": "code",
   "execution_count": 500,
   "metadata": {},
   "outputs": [
    {
     "name": "stdout",
     "output_type": "stream",
     "text": [
      "MAE,  16689.23\n",
      "RMSE,  63194.52\n",
      "R2 score,  0.15\n"
     ]
    }
   ],
   "source": [
    "pred = forest.predict(x_test_norm)\n",
    "\n",
    "print(f\"MAE, {mean_absolute_error(pred, y_test): .2f}\")\n",
    "print(f\"RMSE, {mean_squared_error(pred, y_test, squared=False): .2f}\")\n",
    "print(f\"R2 score, {forest.score(x_test_norm, y_test): .2f}\")"
   ]
  },
  {
   "cell_type": "markdown",
   "metadata": {},
   "source": [
    "**Ada Boost**"
   ]
  },
  {
   "cell_type": "code",
   "execution_count": 501,
   "metadata": {},
   "outputs": [],
   "source": [
    "ada_reg = AdaBoostRegressor(DecisionTreeRegressor(max_depth=5),n_estimators=100)"
   ]
  },
  {
   "cell_type": "code",
   "execution_count": 502,
   "metadata": {},
   "outputs": [
    {
     "data": {
      "text/plain": [
       "AdaBoostRegressor(base_estimator=DecisionTreeRegressor(max_depth=5),\n",
       "                  n_estimators=100)"
      ]
     },
     "execution_count": 502,
     "metadata": {},
     "output_type": "execute_result"
    }
   ],
   "source": [
    "ada_reg.fit(x_train_norm, y_train)"
   ]
  },
  {
   "cell_type": "code",
   "execution_count": 503,
   "metadata": {},
   "outputs": [
    {
     "name": "stdout",
     "output_type": "stream",
     "text": [
      "MAE,  104136.53\n",
      "RMSE,  199123.50\n",
      "R2 score, -7.70\n"
     ]
    }
   ],
   "source": [
    "pred = ada_reg.predict(x_train_norm)\n",
    "\n",
    "print(f\"MAE, {mean_absolute_error(pred, y_train): .2f}\")\n",
    "print(f\"RMSE, {mean_squared_error(pred, y_train, squared=False): .2f}\")\n",
    "print(f\"R2 score, {ada_reg.score(x_train_norm, y_train): .2f}\")"
   ]
  },
  {
   "cell_type": "code",
   "execution_count": 504,
   "metadata": {},
   "outputs": [
    {
     "name": "stdout",
     "output_type": "stream",
     "text": [
      "MAE,  105777.62\n",
      "RMSE,  204248.22\n",
      "R2 score, -7.92\n"
     ]
    }
   ],
   "source": [
    "pred = ada_reg.predict(x_test_norm)\n",
    "\n",
    "print(f\"MAE, {mean_absolute_error(pred, y_test): .2f}\")\n",
    "print(f\"RMSE, {mean_squared_error(pred, y_test, squared=False): .2f}\")\n",
    "print(f\"R2 score, {ada_reg.score(x_test_norm, y_test): .2f}\")"
   ]
  },
  {
   "cell_type": "markdown",
   "metadata": {},
   "source": [
    "**Gradient Boosting**"
   ]
  },
  {
   "cell_type": "code",
   "execution_count": 505,
   "metadata": {},
   "outputs": [],
   "source": [
    "gb_reg = GradientBoostingRegressor(max_depth=5,n_estimators=100)"
   ]
  },
  {
   "cell_type": "code",
   "execution_count": 506,
   "metadata": {},
   "outputs": [
    {
     "data": {
      "text/plain": [
       "GradientBoostingRegressor(max_depth=5)"
      ]
     },
     "execution_count": 506,
     "metadata": {},
     "output_type": "execute_result"
    }
   ],
   "source": [
    "gb_reg.fit(x_train_norm, y_train)"
   ]
  },
  {
   "cell_type": "code",
   "execution_count": 507,
   "metadata": {},
   "outputs": [
    {
     "name": "stdout",
     "output_type": "stream",
     "text": [
      "MAE,  15732.42\n",
      "RMSE,  55245.34\n",
      "R2 score,  0.33\n"
     ]
    }
   ],
   "source": [
    "pred = gb_reg.predict(x_train_norm)\n",
    "\n",
    "print(f\"MAE, {mean_absolute_error(pred, y_train): .2f}\")\n",
    "print(f\"RMSE, {mean_squared_error(pred, y_train, squared=False): .2f}\")\n",
    "print(f\"R2 score, {gb_reg.score(x_train_norm, y_train): .2f}\")"
   ]
  },
  {
   "cell_type": "code",
   "execution_count": 509,
   "metadata": {},
   "outputs": [
    {
     "name": "stdout",
     "output_type": "stream",
     "text": [
      "MAE,  16205.48\n",
      "RMSE,  63809.18\n",
      "R2 score,  0.13\n"
     ]
    }
   ],
   "source": [
    "pred = gb_reg.predict(x_test_norm)\n",
    "\n",
    "print(f\"MAE, {mean_absolute_error(pred, y_test): .2f}\")\n",
    "print(f\"RMSE, {mean_squared_error(pred, y_test, squared=False): .2f}\")\n",
    "print(f\"R2 score, {gb_reg.score(x_test_norm, y_test): .2f}\")"
   ]
  },
  {
   "cell_type": "markdown",
   "metadata": {},
   "source": [
    "**Hyperparameter Tuning**"
   ]
  },
  {
   "cell_type": "code",
   "execution_count": 531,
   "metadata": {},
   "outputs": [],
   "source": [
    "grid = {\"max_leaf_nodes\": [25,50,100],\n",
    "        \"max_depth\":[5,10,30]}"
   ]
  },
  {
   "cell_type": "code",
   "execution_count": 532,
   "metadata": {},
   "outputs": [],
   "source": [
    "dt = DecisionTreeRegressor()"
   ]
  },
  {
   "cell_type": "code",
   "execution_count": 533,
   "metadata": {},
   "outputs": [],
   "source": [
    "model = GridSearchCV(estimator = dt, param_grid = grid, cv=5, verbose=10) # The \"cv\" option here is used to provide the desired number of folds K."
   ]
  },
  {
   "cell_type": "code",
   "execution_count": 534,
   "metadata": {},
   "outputs": [
    {
     "name": "stdout",
     "output_type": "stream",
     "text": [
      "Fitting 5 folds for each of 9 candidates, totalling 45 fits\n",
      "[CV 1/5; 1/9] START max_depth=5, max_leaf_nodes=25..............................\n",
      "[CV 1/5; 1/9] END max_depth=5, max_leaf_nodes=25;, score=0.103 total time=   0.2s\n",
      "[CV 2/5; 1/9] START max_depth=5, max_leaf_nodes=25..............................\n",
      "[CV 2/5; 1/9] END max_depth=5, max_leaf_nodes=25;, score=0.145 total time=   0.1s\n",
      "[CV 3/5; 1/9] START max_depth=5, max_leaf_nodes=25..............................\n",
      "[CV 3/5; 1/9] END max_depth=5, max_leaf_nodes=25;, score=0.187 total time=   0.1s\n",
      "[CV 4/5; 1/9] START max_depth=5, max_leaf_nodes=25..............................\n",
      "[CV 4/5; 1/9] END max_depth=5, max_leaf_nodes=25;, score=0.116 total time=   0.2s\n",
      "[CV 5/5; 1/9] START max_depth=5, max_leaf_nodes=25..............................\n",
      "[CV 5/5; 1/9] END max_depth=5, max_leaf_nodes=25;, score=0.138 total time=   0.2s\n",
      "[CV 1/5; 2/9] START max_depth=5, max_leaf_nodes=50..............................\n",
      "[CV 1/5; 2/9] END max_depth=5, max_leaf_nodes=50;, score=0.103 total time=   0.2s\n",
      "[CV 2/5; 2/9] START max_depth=5, max_leaf_nodes=50..............................\n",
      "[CV 2/5; 2/9] END max_depth=5, max_leaf_nodes=50;, score=0.145 total time=   0.1s\n",
      "[CV 3/5; 2/9] START max_depth=5, max_leaf_nodes=50..............................\n",
      "[CV 3/5; 2/9] END max_depth=5, max_leaf_nodes=50;, score=0.189 total time=   0.2s\n",
      "[CV 4/5; 2/9] START max_depth=5, max_leaf_nodes=50..............................\n",
      "[CV 4/5; 2/9] END max_depth=5, max_leaf_nodes=50;, score=0.116 total time=   0.1s\n",
      "[CV 5/5; 2/9] START max_depth=5, max_leaf_nodes=50..............................\n",
      "[CV 5/5; 2/9] END max_depth=5, max_leaf_nodes=50;, score=0.139 total time=   0.1s\n",
      "[CV 1/5; 3/9] START max_depth=5, max_leaf_nodes=100.............................\n",
      "[CV 1/5; 3/9] END max_depth=5, max_leaf_nodes=100;, score=0.103 total time=   0.1s\n",
      "[CV 2/5; 3/9] START max_depth=5, max_leaf_nodes=100.............................\n",
      "[CV 2/5; 3/9] END max_depth=5, max_leaf_nodes=100;, score=0.145 total time=   0.1s\n",
      "[CV 3/5; 3/9] START max_depth=5, max_leaf_nodes=100.............................\n",
      "[CV 3/5; 3/9] END max_depth=5, max_leaf_nodes=100;, score=0.189 total time=   0.1s\n",
      "[CV 4/5; 3/9] START max_depth=5, max_leaf_nodes=100.............................\n",
      "[CV 4/5; 3/9] END max_depth=5, max_leaf_nodes=100;, score=0.116 total time=   0.2s\n",
      "[CV 5/5; 3/9] START max_depth=5, max_leaf_nodes=100.............................\n",
      "[CV 5/5; 3/9] END max_depth=5, max_leaf_nodes=100;, score=0.139 total time=   0.1s\n",
      "[CV 1/5; 4/9] START max_depth=10, max_leaf_nodes=25.............................\n",
      "[CV 1/5; 4/9] END max_depth=10, max_leaf_nodes=25;, score=0.058 total time=   0.2s\n",
      "[CV 2/5; 4/9] START max_depth=10, max_leaf_nodes=25.............................\n",
      "[CV 2/5; 4/9] END max_depth=10, max_leaf_nodes=25;, score=0.134 total time=   0.1s\n",
      "[CV 3/5; 4/9] START max_depth=10, max_leaf_nodes=25.............................\n",
      "[CV 3/5; 4/9] END max_depth=10, max_leaf_nodes=25;, score=0.145 total time=   0.1s\n",
      "[CV 4/5; 4/9] START max_depth=10, max_leaf_nodes=25.............................\n",
      "[CV 4/5; 4/9] END max_depth=10, max_leaf_nodes=25;, score=0.107 total time=   0.1s\n",
      "[CV 5/5; 4/9] START max_depth=10, max_leaf_nodes=25.............................\n",
      "[CV 5/5; 4/9] END max_depth=10, max_leaf_nodes=25;, score=0.134 total time=   0.2s\n",
      "[CV 1/5; 5/9] START max_depth=10, max_leaf_nodes=50.............................\n",
      "[CV 1/5; 5/9] END max_depth=10, max_leaf_nodes=50;, score=0.038 total time=   0.2s\n",
      "[CV 2/5; 5/9] START max_depth=10, max_leaf_nodes=50.............................\n",
      "[CV 2/5; 5/9] END max_depth=10, max_leaf_nodes=50;, score=0.157 total time=   0.2s\n",
      "[CV 3/5; 5/9] START max_depth=10, max_leaf_nodes=50.............................\n",
      "[CV 3/5; 5/9] END max_depth=10, max_leaf_nodes=50;, score=0.126 total time=   0.2s\n",
      "[CV 4/5; 5/9] START max_depth=10, max_leaf_nodes=50.............................\n",
      "[CV 4/5; 5/9] END max_depth=10, max_leaf_nodes=50;, score=0.008 total time=   0.2s\n",
      "[CV 5/5; 5/9] START max_depth=10, max_leaf_nodes=50.............................\n",
      "[CV 5/5; 5/9] END max_depth=10, max_leaf_nodes=50;, score=0.108 total time=   0.1s\n",
      "[CV 1/5; 6/9] START max_depth=10, max_leaf_nodes=100............................\n",
      "[CV 1/5; 6/9] END max_depth=10, max_leaf_nodes=100;, score=-0.055 total time=   0.2s\n",
      "[CV 2/5; 6/9] START max_depth=10, max_leaf_nodes=100............................\n",
      "[CV 2/5; 6/9] END max_depth=10, max_leaf_nodes=100;, score=0.153 total time=   0.2s\n",
      "[CV 3/5; 6/9] START max_depth=10, max_leaf_nodes=100............................\n",
      "[CV 3/5; 6/9] END max_depth=10, max_leaf_nodes=100;, score=0.069 total time=   0.2s\n",
      "[CV 4/5; 6/9] START max_depth=10, max_leaf_nodes=100............................\n",
      "[CV 4/5; 6/9] END max_depth=10, max_leaf_nodes=100;, score=-0.059 total time=   0.2s\n",
      "[CV 5/5; 6/9] START max_depth=10, max_leaf_nodes=100............................\n",
      "[CV 5/5; 6/9] END max_depth=10, max_leaf_nodes=100;, score=-0.195 total time=   0.2s\n",
      "[CV 1/5; 7/9] START max_depth=30, max_leaf_nodes=25.............................\n",
      "[CV 1/5; 7/9] END max_depth=30, max_leaf_nodes=25;, score=0.058 total time=   0.1s\n",
      "[CV 2/5; 7/9] START max_depth=30, max_leaf_nodes=25.............................\n",
      "[CV 2/5; 7/9] END max_depth=30, max_leaf_nodes=25;, score=0.154 total time=   0.1s\n",
      "[CV 3/5; 7/9] START max_depth=30, max_leaf_nodes=25.............................\n",
      "[CV 3/5; 7/9] END max_depth=30, max_leaf_nodes=25;, score=0.145 total time=   0.1s\n",
      "[CV 4/5; 7/9] START max_depth=30, max_leaf_nodes=25.............................\n",
      "[CV 4/5; 7/9] END max_depth=30, max_leaf_nodes=25;, score=0.107 total time=   0.1s\n",
      "[CV 5/5; 7/9] START max_depth=30, max_leaf_nodes=25.............................\n",
      "[CV 5/5; 7/9] END max_depth=30, max_leaf_nodes=25;, score=0.108 total time=   0.1s\n",
      "[CV 1/5; 8/9] START max_depth=30, max_leaf_nodes=50.............................\n",
      "[CV 1/5; 8/9] END max_depth=30, max_leaf_nodes=50;, score=0.038 total time=   0.2s\n",
      "[CV 2/5; 8/9] START max_depth=30, max_leaf_nodes=50.............................\n",
      "[CV 2/5; 8/9] END max_depth=30, max_leaf_nodes=50;, score=0.137 total time=   0.2s\n",
      "[CV 3/5; 8/9] START max_depth=30, max_leaf_nodes=50.............................\n",
      "[CV 3/5; 8/9] END max_depth=30, max_leaf_nodes=50;, score=0.126 total time=   0.2s\n",
      "[CV 4/5; 8/9] START max_depth=30, max_leaf_nodes=50.............................\n",
      "[CV 4/5; 8/9] END max_depth=30, max_leaf_nodes=50;, score=0.008 total time=   0.2s\n",
      "[CV 5/5; 8/9] START max_depth=30, max_leaf_nodes=50.............................\n",
      "[CV 5/5; 8/9] END max_depth=30, max_leaf_nodes=50;, score=0.108 total time=   0.1s\n",
      "[CV 1/5; 9/9] START max_depth=30, max_leaf_nodes=100............................\n",
      "[CV 1/5; 9/9] END max_depth=30, max_leaf_nodes=100;, score=-0.108 total time=   0.1s\n",
      "[CV 2/5; 9/9] START max_depth=30, max_leaf_nodes=100............................\n",
      "[CV 2/5; 9/9] END max_depth=30, max_leaf_nodes=100;, score=0.056 total time=   0.2s\n",
      "[CV 3/5; 9/9] START max_depth=30, max_leaf_nodes=100............................\n",
      "[CV 3/5; 9/9] END max_depth=30, max_leaf_nodes=100;, score=0.074 total time=   0.2s\n",
      "[CV 4/5; 9/9] START max_depth=30, max_leaf_nodes=100............................\n",
      "[CV 4/5; 9/9] END max_depth=30, max_leaf_nodes=100;, score=-0.058 total time=   0.2s\n",
      "[CV 5/5; 9/9] START max_depth=30, max_leaf_nodes=100............................\n",
      "[CV 5/5; 9/9] END max_depth=30, max_leaf_nodes=100;, score=-0.231 total time=   0.2s\n"
     ]
    },
    {
     "data": {
      "text/plain": [
       "GridSearchCV(cv=5, estimator=DecisionTreeRegressor(),\n",
       "             param_grid={'max_depth': [5, 10, 30],\n",
       "                         'max_leaf_nodes': [25, 50, 100]},\n",
       "             verbose=10)"
      ]
     },
     "execution_count": 534,
     "metadata": {},
     "output_type": "execute_result"
    }
   ],
   "source": [
    "model.fit(x_train_norm, y_train)"
   ]
  },
  {
   "cell_type": "code",
   "execution_count": 535,
   "metadata": {},
   "outputs": [
    {
     "data": {
      "text/plain": [
       "{'max_depth': 5, 'max_leaf_nodes': 50}"
      ]
     },
     "execution_count": 535,
     "metadata": {},
     "output_type": "execute_result"
    }
   ],
   "source": [
    "model.best_params_"
   ]
  },
  {
   "cell_type": "code",
   "execution_count": 536,
   "metadata": {},
   "outputs": [],
   "source": [
    "best_model = model.best_estimator_"
   ]
  },
  {
   "cell_type": "code",
   "execution_count": 537,
   "metadata": {},
   "outputs": [
    {
     "name": "stdout",
     "output_type": "stream",
     "text": [
      "MAE:  17086.12\n",
      "RMSE:  62104.66\n",
      "R2 score:   0.15\n"
     ]
    }
   ],
   "source": [
    "pred = best_model.predict(x_train_norm)\n",
    "\n",
    "print(f\"MAE: {mean_absolute_error(pred, y_train): .2f}\")\n",
    "print(f\"RMSE: {mean_squared_error(pred, y_train, squared=False): .2f}\")\n",
    "print(f\"R2 score:  {best_model.score(x_train_norm, y_train): .2f}\")"
   ]
  },
  {
   "cell_type": "code",
   "execution_count": 538,
   "metadata": {},
   "outputs": [
    {
     "name": "stdout",
     "output_type": "stream",
     "text": [
      "MAE:  17058.02\n",
      "RMSE:  63677.51\n",
      "R2 score:   0.13\n"
     ]
    }
   ],
   "source": [
    "pred = best_model.predict(x_test_norm)\n",
    "\n",
    "print(f\"MAE: {mean_absolute_error(pred, y_test): .2f}\")\n",
    "print(f\"RMSE: {mean_squared_error(pred, y_test, squared=False): .2f}\")\n",
    "print(f\"R2 score:  {best_model.score(x_test_norm, y_test): .2f}\")"
   ]
  }
 ],
 "metadata": {
  "kernelspec": {
   "display_name": "Python 3 (ipykernel)",
   "language": "python",
   "name": "python3"
  },
  "language_info": {
   "codemirror_mode": {
    "name": "ipython",
    "version": 3
   },
   "file_extension": ".py",
   "mimetype": "text/x-python",
   "name": "python",
   "nbconvert_exporter": "python",
   "pygments_lexer": "ipython3",
   "version": "3.12.4"
  }
 },
 "nbformat": 4,
 "nbformat_minor": 4
}
