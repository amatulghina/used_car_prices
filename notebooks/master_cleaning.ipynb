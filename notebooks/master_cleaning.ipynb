{
 "cells": [
  {
   "cell_type": "code",
   "execution_count": 9,
   "id": "387dfd33-b319-4c04-b745-6fabaa11fbe1",
   "metadata": {},
   "outputs": [],
   "source": [
    "#Imports\n",
    "import pandas as pd\n",
    "import functions as func\n",
    "import yaml\n",
    "import matplotlib.pyplot as plt\n",
    "import seaborn as sns\n",
    "\n",
    "%matplotlib inline\n",
    "\n",
    "db_locations = func.import_yaml()\n",
    "\n",
    "#load df\n",
    "df_train = pd.read_csv(db_locations['data_raw']['train'])\n",
    "df_test = pd.read_csv(db_locations['data_raw']['test'])\n",
    "\n"
   ]
  },
  {
   "cell_type": "code",
   "execution_count": 10,
   "id": "7e7cd8bc-9495-4b87-a970-cd9cc3b2500b",
   "metadata": {},
   "outputs": [
    {
     "name": "stdout",
     "output_type": "stream",
     "text": [
      "Number of rows from train DS is: 188533\n",
      "Number of row from test DS is: 125690\n"
     ]
    }
   ],
   "source": [
    "# checking data size from raw data\n",
    "\n",
    "print(f\"Number of rows from train DS is: {df_train.shape[0]}\")\n",
    "print(f\"Number of row from test DS is: {df_test.shape[0]}\")"
   ]
  },
  {
   "cell_type": "code",
   "execution_count": 11,
   "id": "d7b6efcf-c656-468f-bd8a-f45d54ab074e",
   "metadata": {},
   "outputs": [],
   "source": [
    "# Runing function to clean null values from ds\n",
    "\n",
    "df_train_clean = func.cleaning_null(df_train)\n",
    "df_test_clean = func.cleaning_null(df_test)\n",
    "\n"
   ]
  },
  {
   "cell_type": "code",
   "execution_count": 12,
   "id": "d9228cd6-5199-4ca3-a934-d5c28006deff",
   "metadata": {},
   "outputs": [],
   "source": [
    "# transforming some values for better usage of the db\n",
    "\n",
    "df_train_clean = func.format_columns(df_train_clean)\n",
    "df_test_clean = func.format_columns(df_test_clean)\n"
   ]
  },
  {
   "cell_type": "code",
   "execution_count": 13,
   "id": "5ac33691-1345-4e33-bf8b-edf0f0d77bfe",
   "metadata": {},
   "outputs": [
    {
     "data": {
      "text/plain": [
       "id              0\n",
       "brand           0\n",
       "model           0\n",
       "model_year      0\n",
       "milage          0\n",
       "fuel_type       0\n",
       "engine          0\n",
       "transmission    0\n",
       "ext_col         0\n",
       "int_col         0\n",
       "accident        0\n",
       "clean_title     0\n",
       "price           0\n",
       "dtype: int64"
      ]
     },
     "execution_count": 13,
     "metadata": {},
     "output_type": "execute_result"
    }
   ],
   "source": [
    "# checking if everything is correct\n",
    "\n",
    "df_train_clean.isnull().sum()"
   ]
  },
  {
   "cell_type": "code",
   "execution_count": 14,
   "id": "36a5d7a2-aaa1-4f36-81b2-12899359aedf",
   "metadata": {},
   "outputs": [
    {
     "data": {
      "text/plain": [
       "id              0\n",
       "brand           0\n",
       "model           0\n",
       "model_year      0\n",
       "milage          0\n",
       "fuel_type       0\n",
       "engine          0\n",
       "transmission    0\n",
       "ext_col         0\n",
       "int_col         0\n",
       "accident        0\n",
       "clean_title     0\n",
       "dtype: int64"
      ]
     },
     "execution_count": 14,
     "metadata": {},
     "output_type": "execute_result"
    }
   ],
   "source": [
    "df_test_clean.isnull().sum()"
   ]
  },
  {
   "cell_type": "code",
   "execution_count": 15,
   "id": "bde4c4a9-6f5c-4eb6-85ea-b0e243191a8e",
   "metadata": {},
   "outputs": [
    {
     "name": "stdout",
     "output_type": "stream",
     "text": [
      "Number of rows from train DS is: 187765\n",
      "Number of rows from train DS after cleaning is is: 187765\n",
      "Number of row from test DS is: 125163\n",
      "Number of row from test DS after clean is: 125163\n"
     ]
    }
   ],
   "source": [
    "# checking data size from before and after\n",
    "print(f\"Number of rows from train DS is: {df_train.shape[0]}\")\n",
    "print(f\"Number of rows from train DS after cleaning is is: {df_train_clean.shape[0]}\")\n",
    "print(f\"Number of row from test DS is: {df_test.shape[0]}\")\n",
    "print(f\"Number of row from test DS after clean is: {df_test_clean.shape[0]}\")"
   ]
  },
  {
   "cell_type": "code",
   "execution_count": 16,
   "id": "4359fd8c-26ab-4622-a268-b79a66f9f768",
   "metadata": {},
   "outputs": [],
   "source": [
    "\n",
    "# save new df\n",
    "df_train_clean.to_csv(db_locations['data_clean']['train'],index = False)\n",
    "df_test_clean.to_csv(db_locations['data_clean']['test'],index = False)"
   ]
  },
  {
   "cell_type": "code",
   "execution_count": null,
   "id": "e12509df-6fe4-479f-95ef-21c615892f1e",
   "metadata": {},
   "outputs": [],
   "source": []
  }
 ],
 "metadata": {
  "kernelspec": {
   "display_name": "Python 3 (ipykernel)",
   "language": "python",
   "name": "python3"
  },
  "language_info": {
   "codemirror_mode": {
    "name": "ipython",
    "version": 3
   },
   "file_extension": ".py",
   "mimetype": "text/x-python",
   "name": "python",
   "nbconvert_exporter": "python",
   "pygments_lexer": "ipython3",
   "version": "3.12.4"
  }
 },
 "nbformat": 4,
 "nbformat_minor": 5
}
