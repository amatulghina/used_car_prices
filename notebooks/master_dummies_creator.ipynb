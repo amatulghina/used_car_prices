{
 "cells": [
  {
   "cell_type": "code",
   "execution_count": 1,
   "id": "81ec4488-f901-4fe1-a9ff-087b514052c1",
   "metadata": {},
   "outputs": [],
   "source": [
    "#Imports\n",
    "import pandas as pd\n",
    "import functions as func\n",
    "import yaml\n",
    "import matplotlib.pyplot as plt\n",
    "import seaborn as sns\n",
    "\n",
    "%matplotlib inline\n",
    "\n",
    "db_locations = func.import_yaml()\n",
    "\n",
    "#load df\n",
    "df_train = pd.read_csv(db_locations['data_clean']['train'])\n",
    "df_test = pd.read_csv(db_locations['data_clean']['test'])\n"
   ]
  },
  {
   "cell_type": "code",
   "execution_count": null,
   "id": "d69de75e-61b9-4272-8c3d-75aa58a34c34",
   "metadata": {},
   "outputs": [],
   "source": []
  },
  {
   "cell_type": "code",
   "execution_count": 2,
   "id": "e5e40b55-de80-411f-891b-89bc334f5596",
   "metadata": {},
   "outputs": [
    {
     "ename": "UnboundLocalError",
     "evalue": "cannot access local variable 'mean_price_by_brand' where it is not associated with a value",
     "output_type": "error",
     "traceback": [
      "\u001b[0;31m---------------------------------------------------------------------------\u001b[0m",
      "\u001b[0;31mUnboundLocalError\u001b[0m                         Traceback (most recent call last)",
      "Cell \u001b[0;32mIn[2], line 5\u001b[0m\n\u001b[1;32m      1\u001b[0m \u001b[38;5;66;03m# running the format function, to creat dummies and change values from True/False to 0/1\u001b[39;00m\n\u001b[1;32m      4\u001b[0m df_train\u001b[38;5;241m=\u001b[39m func\u001b[38;5;241m.\u001b[39mcreat_dummies(df_train)\n\u001b[0;32m----> 5\u001b[0m df_test \u001b[38;5;241m=\u001b[39m func\u001b[38;5;241m.\u001b[39mcreat_dummies(df_test)\n",
      "File \u001b[0;32m~/Documents/GitHub/Projects/used_car_prices/notebooks/functions.py:266\u001b[0m, in \u001b[0;36mcreat_dummies\u001b[0;34m(df)\u001b[0m\n\u001b[1;32m    264\u001b[0m merged_df \u001b[38;5;241m=\u001b[39m pd\u001b[38;5;241m.\u001b[39mmerge(merged_df, dummies_int_col, on\u001b[38;5;241m=\u001b[39m\u001b[38;5;124m'\u001b[39m\u001b[38;5;124mid\u001b[39m\u001b[38;5;124m'\u001b[39m, how\u001b[38;5;241m=\u001b[39m\u001b[38;5;124m'\u001b[39m\u001b[38;5;124mleft\u001b[39m\u001b[38;5;124m'\u001b[39m)\n\u001b[1;32m    265\u001b[0m merged_df \u001b[38;5;241m=\u001b[39m pd\u001b[38;5;241m.\u001b[39mmerge(merged_df, dummies_ext_col, on\u001b[38;5;241m=\u001b[39m\u001b[38;5;124m'\u001b[39m\u001b[38;5;124mid\u001b[39m\u001b[38;5;124m'\u001b[39m, how\u001b[38;5;241m=\u001b[39m\u001b[38;5;124m'\u001b[39m\u001b[38;5;124mleft\u001b[39m\u001b[38;5;124m'\u001b[39m)\n\u001b[0;32m--> 266\u001b[0m merged_df \u001b[38;5;241m=\u001b[39m pd\u001b[38;5;241m.\u001b[39mmerge(merged_df,mean_price_by_brand[[\u001b[38;5;124m'\u001b[39m\u001b[38;5;124mbrand\u001b[39m\u001b[38;5;124m'\u001b[39m, \u001b[38;5;124m'\u001b[39m\u001b[38;5;124mbrand_ratio\u001b[39m\u001b[38;5;124m'\u001b[39m]], on\u001b[38;5;241m=\u001b[39m\u001b[38;5;124m'\u001b[39m\u001b[38;5;124mbrand\u001b[39m\u001b[38;5;124m'\u001b[39m, how\u001b[38;5;241m=\u001b[39m\u001b[38;5;124m'\u001b[39m\u001b[38;5;124mleft\u001b[39m\u001b[38;5;124m'\u001b[39m)\n\u001b[1;32m    268\u001b[0m \u001b[38;5;66;03m#droping old columns that were transformed into dummies\u001b[39;00m\n\u001b[1;32m    269\u001b[0m merged_df \u001b[38;5;241m=\u001b[39m merged_df\u001b[38;5;241m.\u001b[39mdrop([\u001b[38;5;124m'\u001b[39m\u001b[38;5;124mfuel_type\u001b[39m\u001b[38;5;124m'\u001b[39m,\u001b[38;5;124m'\u001b[39m\u001b[38;5;124mtransmission\u001b[39m\u001b[38;5;124m'\u001b[39m,\u001b[38;5;124m'\u001b[39m\u001b[38;5;124mengine\u001b[39m\u001b[38;5;124m'\u001b[39m,\u001b[38;5;124m'\u001b[39m\u001b[38;5;124mbrand\u001b[39m\u001b[38;5;124m'\u001b[39m,\u001b[38;5;124m'\u001b[39m\u001b[38;5;124mint_col\u001b[39m\u001b[38;5;124m'\u001b[39m,\u001b[38;5;124m'\u001b[39m\u001b[38;5;124mext_col\u001b[39m\u001b[38;5;124m'\u001b[39m], axis \u001b[38;5;241m=\u001b[39m \u001b[38;5;241m1\u001b[39m)\n",
      "\u001b[0;31mUnboundLocalError\u001b[0m: cannot access local variable 'mean_price_by_brand' where it is not associated with a value"
     ]
    }
   ],
   "source": [
    "# running the format function, to creat dummies and change values from True/False to 0/1\n",
    "\n",
    "\n",
    "df_train= func.creat_dummies(df_train)\n",
    "df_test = func.creat_dummies(df_test)"
   ]
  },
  {
   "cell_type": "code",
   "execution_count": null,
   "id": "58bee900-42fb-45a9-ae48-886f426627fa",
   "metadata": {},
   "outputs": [],
   "source": [
    "df_train.head(20)"
   ]
  },
  {
   "cell_type": "code",
   "execution_count": null,
   "id": "88b228c7-9ca5-4d76-a1f5-a14e640a65dc",
   "metadata": {},
   "outputs": [],
   "source": [
    "df_test.head(20)"
   ]
  },
  {
   "cell_type": "code",
   "execution_count": null,
   "id": "80215884-cfac-4dda-941c-581f1d153928",
   "metadata": {},
   "outputs": [],
   "source": [
    "df_train.accident.value_counts()"
   ]
  },
  {
   "cell_type": "code",
   "execution_count": null,
   "id": "574a33c6-73cf-4a5b-bf24-9f0c852a7d41",
   "metadata": {},
   "outputs": [],
   "source": []
  },
  {
   "cell_type": "code",
   "execution_count": null,
   "id": "fe5cba7d-045c-4fd8-9615-96a9d4e3a3ee",
   "metadata": {},
   "outputs": [],
   "source": [
    "df_train.clean_title.value_counts()"
   ]
  },
  {
   "cell_type": "code",
   "execution_count": null,
   "id": "8ffdba33-f2d7-49cf-9c08-409262e7dc07",
   "metadata": {},
   "outputs": [],
   "source": [
    "df_train.columns"
   ]
  },
  {
   "cell_type": "code",
   "execution_count": null,
   "id": "f4efdb0c-aa2c-49c9-b44f-ed083c3dd4e3",
   "metadata": {},
   "outputs": [],
   "source": [
    "#saving ds\n",
    "df_train.to_csv(db_locations['data_clean']['train_merged'],index = False)\n",
    "df_test.to_csv(db_locations['data_clean']['test_merged'],index = False)"
   ]
  }
 ],
 "metadata": {
  "kernelspec": {
   "display_name": "Python 3 (ipykernel)",
   "language": "python",
   "name": "python3"
  },
  "language_info": {
   "codemirror_mode": {
    "name": "ipython",
    "version": 3
   },
   "file_extension": ".py",
   "mimetype": "text/x-python",
   "name": "python",
   "nbconvert_exporter": "python",
   "pygments_lexer": "ipython3",
   "version": "3.12.4"
  }
 },
 "nbformat": 4,
 "nbformat_minor": 5
}
